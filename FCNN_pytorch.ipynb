{
  "cells": [
    {
      "cell_type": "code",
      "execution_count": null,
      "metadata": {
        "colab": {
          "base_uri": "https://localhost:8080/"
        },
        "id": "sCeIPh4XovqL",
        "outputId": "b12b3751-e99e-4529-9a33-7747f99817d3"
      },
      "outputs": [
        {
          "name": "stdout",
          "output_type": "stream",
          "text": [
            "Drive already mounted at /content/drive; to attempt to forcibly remount, call drive.mount(\"/content/drive\", force_remount=True).\n"
          ]
        }
      ],
      "source": [
        "from google.colab import drive\n",
        "drive.mount('/content/drive')"
      ]
    },
    {
      "cell_type": "markdown",
      "metadata": {
        "id": "CQOVi_OWkhE9"
      },
      "source": [
        "### Main Code"
      ]
    },
    {
      "cell_type": "code",
      "execution_count": null,
      "metadata": {
        "id": "jqon9csrZ7n6"
      },
      "outputs": [],
      "source": [
        "from focalloss import FocalLoss"
      ]
    },
    {
      "cell_type": "code",
      "execution_count": null,
      "metadata": {
        "id": "6WUHlVPtohjb"
      },
      "outputs": [],
      "source": [
        "import torch\n",
        "import torchvision\n",
        "from torchvision import transforms, datasets\n",
        "\n",
        "import torch.nn as nn\n",
        "import torch.optim as opt\n",
        "import torch.nn.functional as af\n",
        "import os\n",
        "import numpy as np\n",
        "import pandas as pd\n",
        "import cv2\n",
        "from torch.utils.data import Dataset\n",
        "import PIL\n",
        "from tqdm import tqdm\n",
        "from torch.optim.lr_scheduler import ReduceLROnPlateau\n",
        "from sklearn.manifold import TSNE\n",
        "from google.colab import files\n"
      ]
    },
    {
      "cell_type": "code",
      "execution_count": null,
      "metadata": {
        "id": "3XUkeJ4rn1GV"
      },
      "outputs": [],
      "source": [
        "import zipfile\n",
        "with zipfile.ZipFile('/content/drive/MyDrive/MNIST_dl/test.zip', 'r') as zip_ref:\n",
        "    zip_ref.extractall('/content/MNIST_Data')\n",
        "\n",
        "with zipfile.ZipFile('/content/drive/MyDrive/MNIST_dl/train.zip', 'r') as zip_ref:\n",
        "    zip_ref.extractall('/content/MNIST_Data')"
      ]
    },
    {
      "cell_type": "code",
      "execution_count": null,
      "metadata": {
        "id": "SI8fwBVMp2VT"
      },
      "outputs": [],
      "source": [
        "device = torch.device('cuda' if torch.cuda.is_available() else 'cpu')"
      ]
    },
    {
      "cell_type": "code",
      "execution_count": null,
      "metadata": {
        "id": "JzvNgERSqJWz"
      },
      "outputs": [],
      "source": [
        "transform = transforms.Compose([transforms.Grayscale(), \n",
        "                                         transforms.ToTensor(),\n",
        "                                         transforms.Resize((28,28)), \n",
        "                                         transforms.Normalize(0,0.5)])"
      ]
    },
    {
      "cell_type": "markdown",
      "metadata": {
        "id": "vyhtQygWrTO9"
      },
      "source": [
        "**Loading Data:**"
      ]
    },
    {
      "cell_type": "code",
      "execution_count": null,
      "metadata": {
        "id": "vjwYiM5-rS1m"
      },
      "outputs": [],
      "source": [
        "train_imgs_path = \"/content/MNIST_Data/train_new\"\n",
        "train_labels_path = \"/content/MNIST_Data/train.csv\"\n",
        "\n",
        "\n",
        "test_imgs_path = \"/content/MNIST_Data/test_new\"\n",
        "test_labels_path = \"/content/MNIST_Data/test.csv\"\n"
      ]
    },
    {
      "cell_type": "markdown",
      "metadata": {
        "id": "KlMIL3D2rtSw"
      },
      "source": [
        "**Creating Directories For Each Class**"
      ]
    },
    {
      "cell_type": "code",
      "execution_count": null,
      "metadata": {
        "id": "ooaGezw6rs55"
      },
      "outputs": [],
      "source": [
        "def create_directories(root_dir, dirs_name):\n",
        "  os.makedirs(root_dir,exist_ok = True)\n",
        "  for d_name in dirs_name:\n",
        "    os.makedirs(os.path.join(root_dir,str(d_name)),exist_ok=True)\n",
        "\n",
        "create_directories('train',np.arange(0,10))\n",
        "create_directories('test',np.arange(0,10))"
      ]
    },
    {
      "cell_type": "markdown",
      "metadata": {
        "id": "KSQlgvuntAC_"
      },
      "source": [
        "Put data into directories"
      ]
    },
    {
      "cell_type": "code",
      "execution_count": null,
      "metadata": {
        "id": "UhbimknJsyWs"
      },
      "outputs": [],
      "source": [
        "df_train = pd.read_csv(\"/content/MNIST_Data/train.csv\")\n",
        "df_test = pd.read_csv(\"/content/MNIST_Data/test.csv\")"
      ]
    },
    {
      "cell_type": "code",
      "execution_count": null,
      "metadata": {
        "colab": {
          "base_uri": "https://localhost:8080/"
        },
        "id": "qNv1467pwe4r",
        "outputId": "d17d24cc-f168-40ff-ab97-679a643d44f8"
      },
      "outputs": [
        {
          "name": "stdout",
          "output_type": "stream",
          "text": [
            "[[   0    1    2    3    4    5    6    7    8    9]\n",
            " [ 500 6742 5958 6131  500 5421 5918  500 5851 5949]]\n"
          ]
        }
      ],
      "source": [
        "l = df_train['Label'].to_numpy()\n",
        "label,count = np.unique(l,return_counts=True)\n",
        "print(np.vstack((label,count)))"
      ]
    },
    {
      "cell_type": "code",
      "execution_count": null,
      "metadata": {
        "id": "nZmNN50dy1Hq"
      },
      "outputs": [],
      "source": [
        "missing = list()\n",
        "names = list()\n",
        "\n",
        "def read_imgs_create_dir(r_path,w_path,imgs_names,label):\n",
        "\n",
        "  for img in imgs_names:\n",
        "\n",
        "    image  = cv2.imread(os.path.join(r_path,str(img)))\n",
        "    if image is not None:\n",
        "      cv2.imwrite(os.path.join(w_path,label,str(img)),image)\n",
        "    else:\n",
        "      names.append(str(img))\n",
        "      missing.append(label)\n",
        "\n",
        "\n",
        "def put_imgs_to_dir(dir_path_r,dir_name_w, imgs_name_labels,num_classes):\n",
        "  \"\"\"\n",
        "  imgs_name_labels:\n",
        "    - it is a data frame object with two columns containing images names and labels. \n",
        "\n",
        "  \"\"\"\n",
        "\n",
        "  # labels = imgs_name_labels.to_numpy()\n",
        "  for label in num_classes:\n",
        "    img_id = imgs_name_labels.loc[imgs_name_labels['Label']==label]\n",
        "    read_imgs_create_dir(dir_path_r,dir_name_w,img_id['FileName'].to_numpy(),str(label))\n",
        "\n",
        "\n",
        "put_imgs_to_dir(train_imgs_path,'train',df_train,np.arange(0,10))\n",
        "put_imgs_to_dir(test_imgs_path,'test',df_test,np.arange(0,10))\n"
      ]
    },
    {
      "cell_type": "code",
      "execution_count": null,
      "metadata": {
        "id": "DQVBK006Biwi"
      },
      "outputs": [],
      "source": [
        "class Custom_Dataset(Dataset):\n",
        "  def __init__(self, csv_file, img_dir, transform=None): \n",
        "    # Run once\n",
        "    self.img_labels = pd.read_csv(csv_file)\n",
        "    self.transform = transform\n",
        "    self.img_dir = img_dir\n",
        "    \n",
        "\n",
        "  def __len__(self):\n",
        "    # return the number of samples in dataset\n",
        "    return len(self.img_labels)\n",
        "\n",
        "  def __getitem__(self, idx):\n",
        "    # loads and returns a sample from the dataset at the given index\n",
        "    img_path = os.path.join(self.img_dir ,str(self.img_labels.iloc[idx, 1]),self.img_labels.iloc[idx, 0])\n",
        "    # print(img_path)\n",
        "    image = PIL.Image.open(img_path)\n",
        "    label = torch.tensor(self.img_labels.iloc[idx, 1])\n",
        "    \n",
        "    if self.transform:\n",
        "      image = self.transform(image)\n",
        "        \n",
        "    return image, label"
      ]
    },
    {
      "cell_type": "code",
      "execution_count": null,
      "metadata": {
        "id": "5yXaVQVaB4vw"
      },
      "outputs": [],
      "source": [
        "train_data = Custom_Dataset(csv_file=train_labels_path, img_dir='train', transform=transform)\n",
        "\n",
        "# creating dataset iterator\n",
        "train_per = 0.8\n",
        "train_size = int(len(train_data)*train_per)\n",
        "val_size = int(np.ceil(len(train_data)*(1-train_per)))\n",
        "(train_data,val_data) = torch.utils.data.random_split(train_data,[train_size,val_size])\n",
        "train_loader = torch.utils.data.DataLoader(train_data, batch_size=64, shuffle=True)\n",
        "val_loader = torch.utils.data.DataLoader(val_data, batch_size=64, shuffle=True)\n",
        "\n",
        "test_data = Custom_Dataset(csv_file=test_labels_path, img_dir='test', transform=transform)\n",
        "\n",
        "# creating dataset iterator\n",
        "test_loader = torch.utils.data.DataLoader(test_data, batch_size=64, shuffle=True)"
      ]
    },
    {
      "cell_type": "code",
      "execution_count": null,
      "metadata": {
        "id": "KrDzng2lCO-L"
      },
      "outputs": [],
      "source": [
        "class FCNetwork(nn.Module):\n",
        "    def __init__(self,input_dim, output_dim, hidden_layers) -> None:\n",
        "      super(FCNetwork,self).__init__()\n",
        "      self.fc1 = nn.Linear(input_dim,hidden_layers[0])\n",
        "      self.fc2 = nn.Linear(hidden_layers[0],hidden_layers[1])\n",
        "      self.fc3 = nn.Linear(hidden_layers[1],hidden_layers[2])\n",
        "      self.fc4 = nn.Linear(hidden_layers[2],hidden_layers[3])\n",
        "\n",
        "    def forward(self, x):\n",
        "      x = torch.flatten(x,1)\n",
        "      x = af.relu(self.fc1(x))\n",
        "      x = af.relu(self.fc2(x))\n",
        "      x = af.relu(self.fc3(x))\n",
        "      x = self.fc4(x)\n",
        "      return x\n",
        "\n",
        "    def save_model(self, path):\n",
        "      torch.save(self.state_dict(),path)\n",
        "\n",
        "    def load_model(self, path):\n",
        "      self.load_state_dict(torch.load(path))\n",
        "\n",
        "\n",
        "    def test(self, test_loader,loss_func,batch_size):\n",
        "      loader=tqdm(test_loader)\n",
        "      ep_acc = 0\n",
        "      accuracy = 0\n",
        "      ep_loss = 0\n",
        "      loss = 0\n",
        "      n_dp=0\n",
        "      for batch, (imgs,labels) in enumerate(loader):\n",
        "\n",
        "        imgs=imgs.to(device=device)\n",
        "        labels=labels.to(device=device)\n",
        "\n",
        "        pred = self.forward(imgs)\n",
        "        ep_loss = loss_func(pred,labels)\n",
        "        ep_acc = (pred.argmax(1)==labels).type(torch.float).sum().item()\n",
        "        n_dp+=labels.size(0)\n",
        "        accuracy+=ep_acc\n",
        "        loss+=ep_loss\n",
        "\n",
        "      print(f\"Accuracy: {accuracy/n_dp}, Loss: {loss/n_dp}\")\n",
        "\n",
        "      return {accuracy/len(test_loader)}, loss/len(test_loader)\n",
        "\n",
        "    def check_accuracy(self, loader):\n",
        "      num_correct = 0\n",
        "      num_samples = 0\n",
        "      # self.eval()\n",
        "\n",
        "      with torch.no_grad():\n",
        "          for x, y in loader:\n",
        "              x = x.to(device=device)\n",
        "              y = y.to(device=device)\n",
        "              # x = x.reshape(x.shape[0], -1)\n",
        "\n",
        "              scores = self.forward(x)\n",
        "              _, predictions = scores.max(1)\n",
        "              num_correct += (predictions == y).sum()\n",
        "              num_samples += predictions.size(0)\n",
        "\n",
        "      # self.train()\n",
        "      print(num_correct/num_samples)\n",
        "\n",
        "      return num_correct/num_samples\n",
        "\n",
        "    def visualize_predictions(self, data):\n",
        "      \"\"\"\n",
        "      data: \n",
        "        - DataLoader class's object with batch size = 1\n",
        "      \"\"\"\n",
        "      for i in range(8):\n",
        "        data_iter = iter(data)\n",
        "        img, label = data_iter.next()\n",
        "\n",
        "        pred = self.forward(img)\n",
        "        \n",
        "        predicted_label_index = pred.argmax(1)\n",
        "\n",
        "        gt_img = img.numpy().squeeze(axis=(0,1))\n",
        "        # cv2.putText(gt_img,f\"GT: {label.item()}, Pred: {predicted_label_index}\",org=(2,25),fontFace=cv2.FONT_HERSHEY_SIMPLEX,\n",
        "        #             fontScale=0.03,color=255,thickness=1)\n",
        "\n",
        "        plt.imshow(gt_img)\n",
        "        plt.show()\n",
        "        print(f\"GT: {label.item()}, Pred: {predicted_label_index.item()}\")\n",
        "      \n",
        "\n",
        "    def train(self, train_loader,val_loader,learning_rate, training_epochs, loss_func,optimizer, early_stopping_epochs=7):#train_set_x, train_set_y, valid_set_x,valid_set_y,\n",
        "\n",
        "\n",
        "      train_loss = list()\n",
        "      train_accuracy = list()\n",
        "      val_loss = list()\n",
        "      val_accuracy = list()\n",
        "      train_loss_batch = 0\n",
        "      val_loss_batch = 0\n",
        "      weight_after_first_pass = None\n",
        "      weight_after_last_pass = None\n",
        "      t_loss_min = 0\n",
        "      epochs_no_change_es = 0\n",
        "      for epoch in range(training_epochs):\n",
        "        train_loss_batch = 0\n",
        "        val_loss_batch = 0\n",
        "        epoch_acc = 0\n",
        "\n",
        "        loader = tqdm(train_loader)\n",
        "        for batch_idx,(img,labels) in enumerate(loader):\n",
        "          img = img.to(device=device)\n",
        "          labels = labels.to(device=device)\n",
        "\n",
        "          data = img.reshape(img.shape[0],-1)\n",
        "          pred = self.forward(data)\n",
        "          loss = loss_func(pred,labels)\n",
        "          train_loss_batch += loss.item()\n",
        "          acc = (pred.argmax(1) == labels).type(torch.float).sum().item()/labels.size(0)\n",
        "          epoch_acc +=acc\n",
        "          # acc += check_accuracy(train_loader,net)\n",
        "          optimizer.zero_grad()\n",
        "          loss.backward()\n",
        "          optimizer.step()\n",
        "          # print('Epoch [{}/{}], Step [{}/{}], Loss: {:.4f}' .format(epoch+1, training_epochs, batch_idx+1, len(train_loader), loss.item()))\n",
        "          loader.set_description(f\"Training, Epoch[{epoch+1}/{training_epochs}], Step[{batch_idx+1}/{len(train_loader)}]\")\n",
        "          loader.set_postfix(loss=loss.item(),acc=acc)\n",
        "        \n",
        "        t_loss = train_loss_batch/64\n",
        "        train_loss.append(t_loss)\n",
        "        train_accuracy.append(epoch_acc/64)\n",
        "\n",
        "        epoch_acc = 0\n",
        "        v_loss_min = 0\n",
        "        loader = tqdm(val_loader)\n",
        "        for batch_idx,(img,labels) in enumerate(loader):\n",
        "          img = img.to(device=device)\n",
        "          labels = labels.to(device=device)\n",
        "\n",
        "          data = img.reshape(img.shape[0],-1)\n",
        "          pred = self.forward(data)\n",
        "          loss = loss_func(pred,labels)\n",
        "          val_loss_batch += loss.item()\n",
        "          acc = (pred.argmax(1) == labels).type(torch.float).sum().item()/labels.size(0)\n",
        "\n",
        "          epoch_acc+=acc\n",
        "          loader.set_description(f\"Validation, Epoch[{epoch+1}/{training_epochs}], Step[{batch_idx+1}/{len(val_loader)}]\")\n",
        "          loader.set_postfix(loss=loss.item(),acc=acc)\n",
        "\n",
        "        v_loss = val_loss_batch/64\n",
        "        val_loss.append(v_loss)\n",
        "        val_accuracy.append(epoch_acc/64)\n",
        "\n",
        "        if v_loss < v_loss_min:\n",
        "          v_loss_min = v_loss\n",
        "          epochs_no_change_es = 0\n",
        "\n",
        "        elif t_loss > t_loss_min or round(t_loss,1) == round(t_loss_min,1):\n",
        "          epochs_no_change_es += 1\n",
        "\n",
        "        if early_stopping_epochs > epochs_no_change_es:\n",
        "          continue\n",
        "        else:\n",
        "          early_stopping = True\n",
        "        \n",
        "        if early_stopping:\n",
        "          return self, train_loss, val_loss, train_accuracy, val_accuracy\n",
        "\n",
        "\n",
        "      return net, train_loss, val_loss, train_accuracy, val_accuracy\n",
        "\n",
        "\n"
      ]
    },
    {
      "cell_type": "code",
      "execution_count": null,
      "metadata": {
        "id": "m_NvoT-gnTny"
      },
      "outputs": [],
      "source": [
        "trainloss=list()\n",
        "valloss=list()\n",
        "trainacc=list()\n",
        "valacc=list()\n",
        "W1=list()\n",
        "W2=list()"
      ]
    },
    {
      "cell_type": "code",
      "execution_count": null,
      "metadata": {
        "colab": {
          "background_save": true,
          "base_uri": "https://localhost:8080/"
        },
        "id": "uBSyrbzDEwhv",
        "outputId": "afe750f7-2b2b-45a2-e140-49e62b2ce59a"
      },
      "outputs": [
        {
          "name": "stderr",
          "output_type": "stream",
          "text": [
            "Training, Epoch[1/15], Step[544/544]: 100%|██████████| 544/544 [00:32<00:00, 16.50it/s, acc=0.958, loss=0.0337]\n",
            "Validation, Epoch[1/15], Step[136/136]: 100%|██████████| 136/136 [00:07<00:00, 17.03it/s, acc=0.889, loss=0.0834]\n",
            "Training, Epoch[2/15], Step[544/544]: 100%|██████████| 544/544 [00:32<00:00, 16.49it/s, acc=0.875, loss=0.111]\n",
            "Validation, Epoch[2/15], Step[136/136]: 100%|██████████| 136/136 [00:07<00:00, 17.25it/s, acc=0.944, loss=0.0607]\n",
            "Training, Epoch[3/15], Step[544/544]: 100%|██████████| 544/544 [00:32<00:00, 16.65it/s, acc=0.958, loss=0.0558]\n",
            "Validation, Epoch[3/15], Step[136/136]: 100%|██████████| 136/136 [00:07<00:00, 17.48it/s, acc=0.944, loss=0.0613]\n",
            "Training, Epoch[4/15], Step[544/544]: 100%|██████████| 544/544 [00:32<00:00, 16.92it/s, acc=0.958, loss=0.0416]\n",
            "Validation, Epoch[4/15], Step[136/136]: 100%|██████████| 136/136 [00:07<00:00, 17.47it/s, acc=0.981, loss=0.018]\n",
            "Training, Epoch[5/15], Step[544/544]: 100%|██████████| 544/544 [00:32<00:00, 16.99it/s, acc=1, loss=0.00171]\n",
            "Validation, Epoch[5/15], Step[136/136]: 100%|██████████| 136/136 [00:07<00:00, 17.39it/s, acc=0.963, loss=0.0285]\n",
            "Training, Epoch[6/15], Step[544/544]: 100%|██████████| 544/544 [00:32<00:00, 16.84it/s, acc=0.958, loss=0.0111]\n",
            "Validation, Epoch[6/15], Step[136/136]: 100%|██████████| 136/136 [00:07<00:00, 17.47it/s, acc=0.926, loss=0.103]\n",
            "Training, Epoch[7/15], Step[544/544]: 100%|██████████| 544/544 [00:32<00:00, 16.84it/s, acc=1, loss=0.00163]\n",
            "Validation, Epoch[7/15], Step[136/136]: 100%|██████████| 136/136 [00:07<00:00, 17.84it/s, acc=0.963, loss=0.0696]\n"
          ]
        },
        {
          "ename": "ValueError",
          "evalue": "ignored",
          "output_type": "error",
          "traceback": [
            "\u001b[0;31m---------------------------------------------------------------------------\u001b[0m",
            "\u001b[0;31mValueError\u001b[0m                                Traceback (most recent call last)",
            "\u001b[0;32m<ipython-input-17-b0629dc439b6>\u001b[0m in \u001b[0;36m<module>\u001b[0;34m()\u001b[0m\n\u001b[1;32m     12\u001b[0m \u001b[0;34m\u001b[0m\u001b[0m\n\u001b[1;32m     13\u001b[0m net, train_loss, val_loss, train_accuracy, val_accuracy,w1,w2 = net.train(train_loader,val_loader,\n\u001b[0;32m---> 14\u001b[0;31m                                                                 learning_rate=learning_rate,training_epochs=15,loss_func=criterion,optimizer=optimizer)\n\u001b[0m\u001b[1;32m     15\u001b[0m \u001b[0;34m\u001b[0m\u001b[0m\n\u001b[1;32m     16\u001b[0m \u001b[0mnet\u001b[0m\u001b[0;34m.\u001b[0m\u001b[0msave_model\u001b[0m\u001b[0;34m(\u001b[0m\u001b[0;34m\"fcnn,fl,adams.pt\"\u001b[0m\u001b[0;34m)\u001b[0m\u001b[0;34m\u001b[0m\u001b[0;34m\u001b[0m\u001b[0m\n",
            "\u001b[0;31mValueError\u001b[0m: not enough values to unpack (expected 7, got 5)"
          ]
        }
      ],
      "source": [
        "#https://github.com/ashawkey/FocalLoss.pytorch/blob/master/focalloss.py \n",
        "# focal loss\n",
        "\n",
        "\n",
        "# fl, sgd\n",
        "net = FCNetwork(28*28,10,[64,128,256,10]).to(device)\n",
        "learning_rate = 0.001\n",
        "# criterion = nn.CrossEntropyLoss()\n",
        "criterion = FocalLoss()\n",
        "optimizer = opt.Adam(net.parameters(), lr=learning_rate)\n",
        "# optimizer = opt.SGD(net.parameters(), lr=learning_rate,momentum=0.7)\n",
        "\n",
        "net, train_loss, val_loss, train_accuracy, val_accuracy,w1,w2 = net.train(train_loader,val_loader,\n",
        "                                                                learning_rate=learning_rate,training_epochs=15,loss_func=criterion,optimizer=optimizer)\n",
        "\n",
        "# net.save_model(\"fcnn,fl,adams.pt\")\n",
        "# files.download(\"fcnn,fl,adams.pt\")\n",
        "\n",
        "# trainloss.append(train_loss)\n",
        "# valloss.append(val_loss)\n",
        "\n",
        "# trainacc.append(train_accuracy)\n",
        "# valacc.append(val_accuracy)\n",
        "\n",
        "# W1.append(w1)\n",
        "# W2.append(w2)\n",
        "\n",
        "\n",
        "# # FL, Adams\n",
        "# net = FCNetwork(28*28,10,[64,128,256,10]).to(device)\n",
        "# learning_rate = 0.001\n",
        "# # criterion = nn.CrossEntropyLoss()\n",
        "# criterion = FocalLoss()\n",
        "# # optimizer = opt.Adam(net.parameters(), lr=learning_rate)\n",
        "# optimizer = opt.SGD(net.parameters(), lr=learning_rate,momentum=0.7)\n",
        "\n",
        "# net, train_loss, val_loss, train_accuracy, val_accuracy,w1,w2 = net.train(train_loader,val_loader,\n",
        "#                                                                 learning_rate=learning_rate,training_epochs=15,loss_func=criterion,optimizer=optimizer)\n",
        "\n",
        "# net.save_model(\"fcnn,fl,sgd.pt\")\n",
        "# files.download(\"fcnn,fl,sgd.pt\")\n",
        "\n",
        "# trainloss.append(train_loss)\n",
        "# valloss.append(val_loss)\n",
        "\n",
        "# trainacc.append(train_accuracy)\n",
        "# valacc.append(val_accuracy)\n",
        "\n",
        "# W1.append(w1)\n",
        "# W2.append(w2)\n",
        "\n",
        "\n",
        "# #CE_SGD\n",
        "# net = FCNetwork(28*28,10,[64,128,256,10]).to(device)\n",
        "# learning_rate = 0.001\n",
        "# criterion = nn.CrossEntropyLoss()\n",
        "# # criterion = FocalLoss()\n",
        "# # optimizer = opt.Adam(net.parameters(), lr=learning_rate)\n",
        "# optimizer = opt.SGD(net.parameters(), lr=learning_rate,momentum=0.7)\n",
        "\n",
        "# net, train_loss, val_loss, train_accuracy, val_accuracy,w1,w2 = net.train(train_loader,val_loader,\n",
        "#                                                                 learning_rate=learning_rate,training_epochs=15,loss_func=criterion,optimizer=optimizer)\n",
        "\n",
        "# net.save_model(\"fcnn,ce,sgd.pt\")\n",
        "# files.download(\"fcnn,ce,sgd.pt\")\n",
        "\n",
        "# trainloss.append(train_loss)\n",
        "# valloss.append(val_loss)\n",
        "\n",
        "# trainacc.append(train_accuracy)\n",
        "# valacc.append(val_accuracy)\n",
        "\n",
        "# W1.append(w1)\n",
        "# W2.append(w2)\n",
        "\n",
        "\n",
        "# # CE_adams\n",
        "\n",
        "\n",
        "# net = FCNetwork(28*28,10,[64,128,256,10]).to(device)\n",
        "# learning_rate = 0.001\n",
        "# criterion = nn.CrossEntropyLoss()\n",
        "# # criterion = FocalLoss()\n",
        "# optimizer = opt.Adam(net.parameters(), lr=learning_rate)\n",
        "# # optimizer = opt.SGD(net.parameters(), lr=learning_rate,momentum=0.7)\n",
        "\n",
        "# net, train_loss, val_loss, train_accuracy, val_accuracy,w1,w2 = net.train(train_loader,val_loader,\n",
        "#                                                                 learning_rate=learning_rate,training_epochs=15,loss_func=criterion,optimizer=optimizer)\n",
        "\n",
        "# net.save_model(\"fcnn,ce,adams.pt\")\n",
        "# files.download(\"fcnn,ce,adams.pt\")\n",
        "\n",
        "# trainloss.append(train_loss)\n",
        "# valloss.append(val_loss)\n",
        "\n",
        "# trainacc.append(train_accuracy)\n",
        "# valacc.append(val_accuracy)\n",
        "\n",
        "# W1.append(w1)\n",
        "# W2.append(w2)\n",
        "\n",
        "\n",
        "\n",
        "\n",
        "# import pickle as pk\n",
        "\n",
        "\n",
        "# tl = \"train_l.pkl\"\n",
        "# vl = \"val_l.pkl\"\n",
        "\n",
        "# va=\"val_acc.pkl\"\n",
        "# ta=\"train_acc.pkl\"\n",
        "\n",
        "# with open(tl,'wb') as f:\n",
        "#   pk.dump(train_loss,f)\n",
        "\n",
        "# with open(vl,'wb') as f:\n",
        "#   pk.dump(val_loss,f)\n",
        "\n",
        "# with open(ta,'wb') as f:\n",
        "#   pk.dump(train_accuracy,f)\n",
        "\n",
        "\n",
        "# with open(va,'wb') as f:\n",
        "#   pk.dump(val_accuracy,f)\n",
        "\n",
        "\n",
        "# files.download(tl)\n",
        "# files.download(vl)\n",
        "# files.download(ta)\n",
        "# files.download(va)\n"
      ]
    },
    {
      "cell_type": "code",
      "execution_count": null,
      "metadata": {
        "colab": {
          "base_uri": "https://localhost:8080/"
        },
        "id": "zP29Sdp1rlUY",
        "outputId": "deb94919-3dee-4693-81c8-bb294280955f"
      },
      "outputs": [
        {
          "name": "stdout",
          "output_type": "stream",
          "text": [
            "tensor(0.8341)\n"
          ]
        }
      ],
      "source": [
        "acc1 = net.check_accuracy(test_loader)\n"
      ]
    },
    {
      "cell_type": "code",
      "execution_count": null,
      "metadata": {
        "colab": {
          "base_uri": "https://localhost:8080/"
        },
        "id": "L50HmMH0vhoB",
        "outputId": "14e92a52-652d-4335-b88d-96a9c96e6a91"
      },
      "outputs": [
        {
          "name": "stdout",
          "output_type": "stream",
          "text": [
            "10000\n",
            "tensor(0.8341)\n"
          ]
        }
      ],
      "source": [
        "num_correct = 0\n",
        "num_samples = 0\n",
        "with torch.no_grad():\n",
        "  for b,(x,y) in enumerate(test_loader):\n",
        "\n",
        "    x = x.to(device=device)\n",
        "    y = y.to(device=device)\n",
        "    # x = x.reshape(x.shape[0], -1)\n",
        "\n",
        "    scores = net.forward(x)\n",
        "    _, predictions = scores.max(1)\n",
        "    num_correct += (predictions == y).sum()\n",
        "    num_samples += predictions.size(0)\n",
        "\n",
        "        # self.train()\n",
        "  print(num_samples)\n",
        "  print(num_correct/num_samples)"
      ]
    },
    {
      "cell_type": "code",
      "execution_count": null,
      "metadata": {
        "colab": {
          "base_uri": "https://localhost:8080/",
          "height": 513
        },
        "id": "b4VY4Nc2v87p",
        "outputId": "b60e5db9-ab96-4728-dc42-0df0c6ed63ae"
      },
      "outputs": [
        {
          "data": {
            "image/png": "[encoded data removed]",
            "text/plain": [
              "<Figure size 432x288 with 1 Axes>"
            ]
          },
          "metadata": {},
          "output_type": "display_data"
        },
        {
          "data": {
            "image/png": "[encoded data removed]",
            "text/plain": [
              "<Figure size 432x288 with 1 Axes>"
            ]
          },
          "metadata": {},
          "output_type": "display_data"
        }
      ],
      "source": [
        "from matplotlib import pyplot as plt\n",
        "\n",
        "plt.plot(np.array(train_loss),'g')\n",
        "plt.plot(np.array(val_loss),'r')\n",
        "\n",
        "plt.show()\n",
        "\n",
        "plt.plot(np.array(train_accuracy),'y')\n",
        "plt.plot(np.array(val_accuracy),'b')\n",
        "plt.show()"
      ]
    },
    {
      "cell_type": "code",
      "execution_count": null,
      "metadata": {
        "id": "QsKPf4AX3oDC"
      },
      "outputs": [],
      "source": [
        "train_data = Custom_Dataset(csv_file=train_labels_path, img_dir='train', transform=transform)\n",
        "\n",
        "# creating dataset iterator\n",
        "train_loader = torch.utils.data.DataLoader(train_data, batch_size=1, shuffle=True)\n",
        "\n",
        "label = list()\n",
        "gt = list()\n",
        "\n",
        "for batch, (imgs,labels) in enumerate(train_loader):\n",
        "\n",
        "  imgs = imgs.to(device=device)\n",
        "  labels = labels.to(device=device)\n",
        "\n",
        "  pred = net.forward(imgs)\n",
        "  pred_label = pred.argmax(1).cpu().numpy()[0]\n",
        "  t = pred.amax(axis=1)\n",
        "  actual_label = labels.item()\n",
        "\n",
        "\n",
        "  label.append(pred_label)\n",
        "  gt.append(actual_label)\n",
        "\n"
      ]
    },
    {
      "cell_type": "code",
      "execution_count": null,
      "metadata": {
        "colab": {
          "base_uri": "https://localhost:8080/"
        },
        "id": "fVh0st617WsC",
        "outputId": "eb4e8bae-6bbd-4562-dfb9-755e079e4aa1"
      },
      "outputs": [
        {
          "name": "stdout",
          "output_type": "stream",
          "text": [
            "[3, 5, 5, 3, 9, 8, 8, 3, 8, 2]\n"
          ]
        }
      ],
      "source": [
        "print(gt[:10])"
      ]
    },
    {
      "cell_type": "code",
      "execution_count": null,
      "metadata": {
        "id": "CUlbrmAo57T1"
      },
      "outputs": [],
      "source": [
        "from sklearn import metrics\n",
        "\n",
        "fpr, tpr, thresholds = metrics.roc_curve(gt, label, pos_label=9)"
      ]
    },
    {
      "cell_type": "code",
      "execution_count": null,
      "metadata": {
        "colab": {
          "base_uri": "https://localhost:8080/"
        },
        "id": "WScTt5J8Aig7",
        "outputId": "547f03d7-212c-4782-bcd5-eb9cda5c8f4e"
      },
      "outputs": [
        {
          "name": "stdout",
          "output_type": "stream",
          "text": [
            " does not take label imbalance into account.MACRO 0.7686389849652622\n",
            "Class imbalanced into account 0.897152256130144\n"
          ]
        }
      ],
      "source": [
        "print(\" does not take label imbalance into account.MACRO\", metrics.f1_score(gt, label, average='macro'))\n",
        "print(\"Class imbalanced into account\", metrics.f1_score(gt, label, average='weighted'))"
      ]
    },
    {
      "cell_type": "code",
      "execution_count": null,
      "metadata": {
        "id": "_tD1RH4wBqEP"
      },
      "outputs": [],
      "source": [
        "from sklearn.metrics import confusion_matrix\n",
        "cm_train = confusion_matrix(gt,label)"
      ]
    },
    {
      "cell_type": "code",
      "execution_count": null,
      "metadata": {
        "colab": {
          "base_uri": "https://localhost:8080/",
          "height": 485
        },
        "id": "OL2FMb8FCJ5m",
        "outputId": "fdd5e2ce-e044-4746-9d6b-c9058e561569"
      },
      "outputs": [
        {
          "data": {
            "image/png": "[encoded data removed]",
            "text/plain": [
              "<Figure size 1080x576 with 2 Axes>"
            ]
          },
          "metadata": {},
          "output_type": "display_data"
        }
      ],
      "source": [
        "from sklearn.metrics import confusion_matrix\n",
        "cm_train = confusion_matrix(gt,label)\n",
        "import seaborn as snNew\n",
        "\n",
        "\n",
        "DetaFrame_cm = pd.DataFrame(cm_train, range(10), range(10))\n",
        "snNew.heatmap(DetaFrame_cm, annot=True)\n",
        "snNew.set(rc = {'figure.figsize':(20,20)})\n",
        "\n",
        "plt.show()"
      ]
    },
    {
      "cell_type": "code",
      "execution_count": null,
      "metadata": {
        "colab": {
          "base_uri": "https://localhost:8080/"
        },
        "id": "WZa8OlReAEff",
        "outputId": "0acecb79-7e8c-4fca-fda5-e2b83bba79d4"
      },
      "outputs": [
        {
          "data": {
            "text/plain": [
              "0.9034046468829078"
            ]
          },
          "execution_count": 101,
          "metadata": {},
          "output_type": "execute_result"
        }
      ],
      "source": [
        "metrics.accuracy_score(gt, label, normalize=True)"
      ]
    },
    {
      "cell_type": "code",
      "execution_count": null,
      "metadata": {
        "colab": {
          "base_uri": "https://localhost:8080/",
          "height": 265
        },
        "id": "vdNfzL9m8sMj",
        "outputId": "62c83cb8-633b-414f-d469-8b611e05a4e0"
      },
      "outputs": [
        {
          "data": {
            "image/png": "[encoded data removed]",
            "text/plain": [
              "<Figure size 432x288 with 1 Axes>"
            ]
          },
          "metadata": {},
          "output_type": "display_data"
        }
      ],
      "source": [
        "plt.plot(fpr,tpr)\n",
        "plt.show()"
      ]
    },
    {
      "cell_type": "markdown",
      "metadata": {
        "id": "znzTPq5mGj3c"
      },
      "source": [
        "TSNe"
      ]
    },
    {
      "cell_type": "code",
      "execution_count": null,
      "metadata": {
        "id": "49j_zktxGjeH"
      },
      "outputs": [],
      "source": [
        ""
      ]
    },
    {
      "cell_type": "code",
      "execution_count": null,
      "metadata": {
        "id": "UW_d1XjBMTeB"
      },
      "outputs": [],
      "source": [
        "def check_accuracy(loader, model,val_loader,learning_rate=0.001, epochs=5,optimizer=optimizer,loss_func=criterion):\n",
        "    num_correct = 0\n",
        "    num_samples = 0\n",
        "    model.eval()\n",
        "\n",
        "    with torch.no_grad():\n",
        "        for x, y in loader:\n",
        "            x = x.to(device=device)\n",
        "            y = y.to(device=device)\n",
        "            x = x.reshape(x.shape[0], -1)\n",
        "\n",
        "            scores = model(x)\n",
        "            _, predictions = scores.max(1)\n",
        "            num_correct += (predictions == y).sum()\n",
        "            num_samples += predictions.size(0)\n",
        "\n",
        "    model.train()\n",
        "    return num_correct/num_samples\n",
        "\n",
        "\n",
        "print(f\"Accuracy on training set: {check_accuracy(train_loader, net,val_loader, learning_rate, epochs=0.001, loss_func=criterion, optimizer=optimizer)*100:.2f}\")\n",
        "# print(f\"Accuracy on test set: {check_accuracy(test_loader, net)*100:.2f}\")"
      ]
    }
  ],
  "metadata": {
    "accelerator": "GPU",
    "colab": {
      "collapsed_sections": [],
      "name": "Deep Learning Assignment 2_part1_Task1.ipynb",
      "provenance": []
    },
    "kernelspec": {
      "display_name": "Python 3",
      "name": "python3"
    },
    "language_info": {
      "name": "python"
    }
  },
  "nbformat": 4,
  "nbformat_minor": 0
}